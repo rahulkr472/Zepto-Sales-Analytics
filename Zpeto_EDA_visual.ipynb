{
 "cells": [
  {
   "cell_type": "markdown",
   "id": "b9fe1f51-66f8-42c6-a708-ee56f9eb9627",
   "metadata": {},
   "source": [
    "# **Zepto Sales Analysis**"
   ]
  },
  {
   "cell_type": "code",
   "execution_count": 1,
   "id": "202574fa-a9f3-4735-9412-6b021f77c718",
   "metadata": {},
   "outputs": [],
   "source": [
    "# import libraries \n",
    "\n",
    "import pandas as pd\n",
    "import numpy as np\n",
    "import matplotlib.pyplot as plt\n",
    "import seaborn as sns"
   ]
  },
  {
   "cell_type": "code",
   "execution_count": 109,
   "id": "f8d9de6c-be98-4ab6-bdec-13354cea288c",
   "metadata": {},
   "outputs": [],
   "source": [
    "# import data\n",
    "\n",
    "df = pd.read_csv('zepto_sales_dataset.csv')"
   ]
  },
  {
   "cell_type": "code",
   "execution_count": 110,
   "id": "a17a426e-b776-4b90-b43a-d176ef1dc203",
   "metadata": {},
   "outputs": [
    {
     "data": {
      "text/html": [
       "<div>\n",
       "<style scoped>\n",
       "    .dataframe tbody tr th:only-of-type {\n",
       "        vertical-align: middle;\n",
       "    }\n",
       "\n",
       "    .dataframe tbody tr th {\n",
       "        vertical-align: top;\n",
       "    }\n",
       "\n",
       "    .dataframe thead th {\n",
       "        text-align: right;\n",
       "    }\n",
       "</style>\n",
       "<table border=\"1\" class=\"dataframe\">\n",
       "  <thead>\n",
       "    <tr style=\"text-align: right;\">\n",
       "      <th></th>\n",
       "      <th>Product Name</th>\n",
       "      <th>Category</th>\n",
       "      <th>City</th>\n",
       "      <th>Original Price</th>\n",
       "      <th>Current Price</th>\n",
       "      <th>Discount</th>\n",
       "      <th>Orders</th>\n",
       "      <th>Total Revenue</th>\n",
       "      <th>Influencer Active</th>\n",
       "    </tr>\n",
       "  </thead>\n",
       "  <tbody>\n",
       "    <tr>\n",
       "      <th>0</th>\n",
       "      <td>Britannia Cake</td>\n",
       "      <td>Snacks</td>\n",
       "      <td>Delhi</td>\n",
       "      <td>148</td>\n",
       "      <td>163</td>\n",
       "      <td>5</td>\n",
       "      <td>283</td>\n",
       "      <td>44714</td>\n",
       "      <td>No</td>\n",
       "    </tr>\n",
       "    <tr>\n",
       "      <th>1</th>\n",
       "      <td>Britannia Cake</td>\n",
       "      <td>Snacks</td>\n",
       "      <td>Pune</td>\n",
       "      <td>81</td>\n",
       "      <td>86</td>\n",
       "      <td>10</td>\n",
       "      <td>284</td>\n",
       "      <td>21584</td>\n",
       "      <td>Yes</td>\n",
       "    </tr>\n",
       "    <tr>\n",
       "      <th>2</th>\n",
       "      <td>Fortune Oil 1L</td>\n",
       "      <td>Grocery</td>\n",
       "      <td>Hyderabad</td>\n",
       "      <td>138</td>\n",
       "      <td>143</td>\n",
       "      <td>10</td>\n",
       "      <td>69</td>\n",
       "      <td>9177</td>\n",
       "      <td>No</td>\n",
       "    </tr>\n",
       "    <tr>\n",
       "      <th>3</th>\n",
       "      <td>Pepsi 500ml</td>\n",
       "      <td>Beverages</td>\n",
       "      <td>Delhi</td>\n",
       "      <td>127</td>\n",
       "      <td>127</td>\n",
       "      <td>10</td>\n",
       "      <td>83</td>\n",
       "      <td>9711</td>\n",
       "      <td>No</td>\n",
       "    </tr>\n",
       "    <tr>\n",
       "      <th>4</th>\n",
       "      <td>Aashirvaad Atta</td>\n",
       "      <td>Grocery</td>\n",
       "      <td>Chennai</td>\n",
       "      <td>34</td>\n",
       "      <td>49</td>\n",
       "      <td>10</td>\n",
       "      <td>169</td>\n",
       "      <td>6591</td>\n",
       "      <td>Yes</td>\n",
       "    </tr>\n",
       "    <tr>\n",
       "      <th>...</th>\n",
       "      <td>...</td>\n",
       "      <td>...</td>\n",
       "      <td>...</td>\n",
       "      <td>...</td>\n",
       "      <td>...</td>\n",
       "      <td>...</td>\n",
       "      <td>...</td>\n",
       "      <td>...</td>\n",
       "      <td>...</td>\n",
       "    </tr>\n",
       "    <tr>\n",
       "      <th>295</th>\n",
       "      <td>Britannia Cake</td>\n",
       "      <td>Snacks</td>\n",
       "      <td>Pune</td>\n",
       "      <td>198</td>\n",
       "      <td>198</td>\n",
       "      <td>5</td>\n",
       "      <td>52</td>\n",
       "      <td>10036</td>\n",
       "      <td>Yes</td>\n",
       "    </tr>\n",
       "    <tr>\n",
       "      <th>296</th>\n",
       "      <td>Amul Milk 500ml</td>\n",
       "      <td>Dairy</td>\n",
       "      <td>Hyderabad</td>\n",
       "      <td>131</td>\n",
       "      <td>146</td>\n",
       "      <td>10</td>\n",
       "      <td>146</td>\n",
       "      <td>19856</td>\n",
       "      <td>No</td>\n",
       "    </tr>\n",
       "    <tr>\n",
       "      <th>297</th>\n",
       "      <td>Oreo Biscuits</td>\n",
       "      <td>Snacks</td>\n",
       "      <td>Delhi</td>\n",
       "      <td>171</td>\n",
       "      <td>176</td>\n",
       "      <td>10</td>\n",
       "      <td>291</td>\n",
       "      <td>48306</td>\n",
       "      <td>No</td>\n",
       "    </tr>\n",
       "    <tr>\n",
       "      <th>298</th>\n",
       "      <td>Amul Milk 500ml</td>\n",
       "      <td>Dairy</td>\n",
       "      <td>Mumbai</td>\n",
       "      <td>94</td>\n",
       "      <td>99</td>\n",
       "      <td>0</td>\n",
       "      <td>124</td>\n",
       "      <td>12276</td>\n",
       "      <td>No</td>\n",
       "    </tr>\n",
       "    <tr>\n",
       "      <th>299</th>\n",
       "      <td>Parle-G</td>\n",
       "      <td>Snacks</td>\n",
       "      <td>Chennai</td>\n",
       "      <td>129</td>\n",
       "      <td>129</td>\n",
       "      <td>10</td>\n",
       "      <td>272</td>\n",
       "      <td>32368</td>\n",
       "      <td>No</td>\n",
       "    </tr>\n",
       "  </tbody>\n",
       "</table>\n",
       "<p>300 rows × 9 columns</p>\n",
       "</div>"
      ],
      "text/plain": [
       "        Product Name   Category       City  Original Price  Current Price  \\\n",
       "0     Britannia Cake     Snacks      Delhi             148            163   \n",
       "1     Britannia Cake     Snacks       Pune              81             86   \n",
       "2     Fortune Oil 1L    Grocery  Hyderabad             138            143   \n",
       "3        Pepsi 500ml  Beverages      Delhi             127            127   \n",
       "4    Aashirvaad Atta    Grocery    Chennai              34             49   \n",
       "..               ...        ...        ...             ...            ...   \n",
       "295   Britannia Cake     Snacks       Pune             198            198   \n",
       "296  Amul Milk 500ml      Dairy  Hyderabad             131            146   \n",
       "297    Oreo Biscuits     Snacks      Delhi             171            176   \n",
       "298  Amul Milk 500ml      Dairy     Mumbai              94             99   \n",
       "299          Parle-G     Snacks    Chennai             129            129   \n",
       "\n",
       "     Discount  Orders  Total Revenue Influencer Active  \n",
       "0           5     283          44714                No  \n",
       "1          10     284          21584               Yes  \n",
       "2          10      69           9177                No  \n",
       "3          10      83           9711                No  \n",
       "4          10     169           6591               Yes  \n",
       "..        ...     ...            ...               ...  \n",
       "295         5      52          10036               Yes  \n",
       "296        10     146          19856                No  \n",
       "297        10     291          48306                No  \n",
       "298         0     124          12276                No  \n",
       "299        10     272          32368                No  \n",
       "\n",
       "[300 rows x 9 columns]"
      ]
     },
     "execution_count": 110,
     "metadata": {},
     "output_type": "execute_result"
    }
   ],
   "source": [
    "df"
   ]
  },
  {
   "cell_type": "code",
   "execution_count": 111,
   "id": "11659e5b-2963-44c6-a326-b5186a7b1468",
   "metadata": {},
   "outputs": [
    {
     "data": {
      "text/html": [
       "<div>\n",
       "<style scoped>\n",
       "    .dataframe tbody tr th:only-of-type {\n",
       "        vertical-align: middle;\n",
       "    }\n",
       "\n",
       "    .dataframe tbody tr th {\n",
       "        vertical-align: top;\n",
       "    }\n",
       "\n",
       "    .dataframe thead th {\n",
       "        text-align: right;\n",
       "    }\n",
       "</style>\n",
       "<table border=\"1\" class=\"dataframe\">\n",
       "  <thead>\n",
       "    <tr style=\"text-align: right;\">\n",
       "      <th></th>\n",
       "      <th>Product Name</th>\n",
       "      <th>Category</th>\n",
       "      <th>City</th>\n",
       "      <th>Original Price</th>\n",
       "      <th>Current Price</th>\n",
       "      <th>Discount</th>\n",
       "      <th>Orders</th>\n",
       "      <th>Total Revenue</th>\n",
       "      <th>Influencer Active</th>\n",
       "    </tr>\n",
       "  </thead>\n",
       "  <tbody>\n",
       "    <tr>\n",
       "      <th>0</th>\n",
       "      <td>Britannia Cake</td>\n",
       "      <td>Snacks</td>\n",
       "      <td>Delhi</td>\n",
       "      <td>148</td>\n",
       "      <td>163</td>\n",
       "      <td>5</td>\n",
       "      <td>283</td>\n",
       "      <td>44714</td>\n",
       "      <td>No</td>\n",
       "    </tr>\n",
       "    <tr>\n",
       "      <th>1</th>\n",
       "      <td>Britannia Cake</td>\n",
       "      <td>Snacks</td>\n",
       "      <td>Pune</td>\n",
       "      <td>81</td>\n",
       "      <td>86</td>\n",
       "      <td>10</td>\n",
       "      <td>284</td>\n",
       "      <td>21584</td>\n",
       "      <td>Yes</td>\n",
       "    </tr>\n",
       "    <tr>\n",
       "      <th>2</th>\n",
       "      <td>Fortune Oil 1L</td>\n",
       "      <td>Grocery</td>\n",
       "      <td>Hyderabad</td>\n",
       "      <td>138</td>\n",
       "      <td>143</td>\n",
       "      <td>10</td>\n",
       "      <td>69</td>\n",
       "      <td>9177</td>\n",
       "      <td>No</td>\n",
       "    </tr>\n",
       "    <tr>\n",
       "      <th>3</th>\n",
       "      <td>Pepsi 500ml</td>\n",
       "      <td>Beverages</td>\n",
       "      <td>Delhi</td>\n",
       "      <td>127</td>\n",
       "      <td>127</td>\n",
       "      <td>10</td>\n",
       "      <td>83</td>\n",
       "      <td>9711</td>\n",
       "      <td>No</td>\n",
       "    </tr>\n",
       "    <tr>\n",
       "      <th>4</th>\n",
       "      <td>Aashirvaad Atta</td>\n",
       "      <td>Grocery</td>\n",
       "      <td>Chennai</td>\n",
       "      <td>34</td>\n",
       "      <td>49</td>\n",
       "      <td>10</td>\n",
       "      <td>169</td>\n",
       "      <td>6591</td>\n",
       "      <td>Yes</td>\n",
       "    </tr>\n",
       "  </tbody>\n",
       "</table>\n",
       "</div>"
      ],
      "text/plain": [
       "      Product Name   Category       City  Original Price  Current Price  \\\n",
       "0   Britannia Cake     Snacks      Delhi             148            163   \n",
       "1   Britannia Cake     Snacks       Pune              81             86   \n",
       "2   Fortune Oil 1L    Grocery  Hyderabad             138            143   \n",
       "3      Pepsi 500ml  Beverages      Delhi             127            127   \n",
       "4  Aashirvaad Atta    Grocery    Chennai              34             49   \n",
       "\n",
       "   Discount  Orders  Total Revenue Influencer Active  \n",
       "0         5     283          44714                No  \n",
       "1        10     284          21584               Yes  \n",
       "2        10      69           9177                No  \n",
       "3        10      83           9711                No  \n",
       "4        10     169           6591               Yes  "
      ]
     },
     "execution_count": 111,
     "metadata": {},
     "output_type": "execute_result"
    }
   ],
   "source": [
    "df.head()"
   ]
  },
  {
   "cell_type": "code",
   "execution_count": 112,
   "id": "eb5481c2-f388-48c2-ae06-5f24cdca66c2",
   "metadata": {},
   "outputs": [
    {
     "name": "stdout",
     "output_type": "stream",
     "text": [
      "<class 'pandas.core.frame.DataFrame'>\n",
      "RangeIndex: 300 entries, 0 to 299\n",
      "Data columns (total 9 columns):\n",
      " #   Column             Non-Null Count  Dtype \n",
      "---  ------             --------------  ----- \n",
      " 0   Product Name       300 non-null    object\n",
      " 1   Category           300 non-null    object\n",
      " 2   City               300 non-null    object\n",
      " 3   Original Price     300 non-null    int64 \n",
      " 4   Current Price      300 non-null    int64 \n",
      " 5   Discount           300 non-null    int64 \n",
      " 6   Orders             300 non-null    int64 \n",
      " 7   Total Revenue      300 non-null    int64 \n",
      " 8   Influencer Active  300 non-null    object\n",
      "dtypes: int64(5), object(4)\n",
      "memory usage: 21.2+ KB\n"
     ]
    }
   ],
   "source": [
    "df.info()"
   ]
  },
  {
   "cell_type": "code",
   "execution_count": 113,
   "id": "ce46b333-63b0-4b71-a40f-7aa8366be102",
   "metadata": {},
   "outputs": [
    {
     "data": {
      "text/html": [
       "<div>\n",
       "<style scoped>\n",
       "    .dataframe tbody tr th:only-of-type {\n",
       "        vertical-align: middle;\n",
       "    }\n",
       "\n",
       "    .dataframe tbody tr th {\n",
       "        vertical-align: top;\n",
       "    }\n",
       "\n",
       "    .dataframe thead th {\n",
       "        text-align: right;\n",
       "    }\n",
       "</style>\n",
       "<table border=\"1\" class=\"dataframe\">\n",
       "  <thead>\n",
       "    <tr style=\"text-align: right;\">\n",
       "      <th></th>\n",
       "      <th>Original Price</th>\n",
       "      <th>Current Price</th>\n",
       "      <th>Discount</th>\n",
       "      <th>Orders</th>\n",
       "      <th>Total Revenue</th>\n",
       "    </tr>\n",
       "  </thead>\n",
       "  <tbody>\n",
       "    <tr>\n",
       "      <th>count</th>\n",
       "      <td>300.000000</td>\n",
       "      <td>300.000000</td>\n",
       "      <td>300.000000</td>\n",
       "      <td>300.000000</td>\n",
       "      <td>300.000000</td>\n",
       "    </tr>\n",
       "    <tr>\n",
       "      <th>mean</th>\n",
       "      <td>111.866667</td>\n",
       "      <td>119.200000</td>\n",
       "      <td>4.916667</td>\n",
       "      <td>168.153333</td>\n",
       "      <td>19277.836667</td>\n",
       "    </tr>\n",
       "    <tr>\n",
       "      <th>std</th>\n",
       "      <td>49.936102</td>\n",
       "      <td>50.462543</td>\n",
       "      <td>4.179468</td>\n",
       "      <td>74.258541</td>\n",
       "      <td>12744.470724</td>\n",
       "    </tr>\n",
       "    <tr>\n",
       "      <th>min</th>\n",
       "      <td>20.000000</td>\n",
       "      <td>21.000000</td>\n",
       "      <td>0.000000</td>\n",
       "      <td>50.000000</td>\n",
       "      <td>1392.000000</td>\n",
       "    </tr>\n",
       "    <tr>\n",
       "      <th>25%</th>\n",
       "      <td>71.750000</td>\n",
       "      <td>78.000000</td>\n",
       "      <td>0.000000</td>\n",
       "      <td>103.750000</td>\n",
       "      <td>9025.250000</td>\n",
       "    </tr>\n",
       "    <tr>\n",
       "      <th>50%</th>\n",
       "      <td>115.000000</td>\n",
       "      <td>120.500000</td>\n",
       "      <td>5.000000</td>\n",
       "      <td>161.500000</td>\n",
       "      <td>16227.000000</td>\n",
       "    </tr>\n",
       "    <tr>\n",
       "      <th>75%</th>\n",
       "      <td>151.500000</td>\n",
       "      <td>161.000000</td>\n",
       "      <td>10.000000</td>\n",
       "      <td>233.750000</td>\n",
       "      <td>27396.000000</td>\n",
       "    </tr>\n",
       "    <tr>\n",
       "      <th>max</th>\n",
       "      <td>199.000000</td>\n",
       "      <td>213.000000</td>\n",
       "      <td>10.000000</td>\n",
       "      <td>299.000000</td>\n",
       "      <td>58212.000000</td>\n",
       "    </tr>\n",
       "  </tbody>\n",
       "</table>\n",
       "</div>"
      ],
      "text/plain": [
       "       Original Price  Current Price    Discount      Orders  Total Revenue\n",
       "count      300.000000     300.000000  300.000000  300.000000     300.000000\n",
       "mean       111.866667     119.200000    4.916667  168.153333   19277.836667\n",
       "std         49.936102      50.462543    4.179468   74.258541   12744.470724\n",
       "min         20.000000      21.000000    0.000000   50.000000    1392.000000\n",
       "25%         71.750000      78.000000    0.000000  103.750000    9025.250000\n",
       "50%        115.000000     120.500000    5.000000  161.500000   16227.000000\n",
       "75%        151.500000     161.000000   10.000000  233.750000   27396.000000\n",
       "max        199.000000     213.000000   10.000000  299.000000   58212.000000"
      ]
     },
     "execution_count": 113,
     "metadata": {},
     "output_type": "execute_result"
    }
   ],
   "source": [
    "df.describe()"
   ]
  },
  {
   "cell_type": "code",
   "execution_count": 114,
   "id": "72bda1d6-0b1d-44ad-972e-023fe704746f",
   "metadata": {},
   "outputs": [
    {
     "data": {
      "text/plain": [
       "Index(['Product Name', 'Category', 'City', 'Original Price', 'Current Price',\n",
       "       'Discount', 'Orders', 'Total Revenue', 'Influencer Active'],\n",
       "      dtype='object')"
      ]
     },
     "execution_count": 114,
     "metadata": {},
     "output_type": "execute_result"
    }
   ],
   "source": [
    "df.columns"
   ]
  },
  {
   "cell_type": "code",
   "execution_count": 115,
   "id": "a5e61977-541d-410e-94f2-61951e15373c",
   "metadata": {},
   "outputs": [
    {
     "data": {
      "text/plain": [
       "Product Name         0\n",
       "Category             0\n",
       "City                 0\n",
       "Original Price       0\n",
       "Current Price        0\n",
       "Discount             0\n",
       "Orders               0\n",
       "Total Revenue        0\n",
       "Influencer Active    0\n",
       "dtype: int64"
      ]
     },
     "execution_count": 115,
     "metadata": {},
     "output_type": "execute_result"
    }
   ],
   "source": [
    "df.isnull().sum()"
   ]
  },
  {
   "cell_type": "code",
   "execution_count": 116,
   "id": "61aec601-ab4d-420c-8dff-19289cc831a5",
   "metadata": {},
   "outputs": [
    {
     "data": {
      "text/plain": [
       "0"
      ]
     },
     "execution_count": 116,
     "metadata": {},
     "output_type": "execute_result"
    }
   ],
   "source": [
    "df.duplicated().sum()"
   ]
  },
  {
   "cell_type": "code",
   "execution_count": 17,
   "id": "118491ea-7165-4a7f-b115-9594cc11b253",
   "metadata": {},
   "outputs": [],
   "source": [
    "# df['Influencer Active'] = df['Influencer Active'].astype(bool)"
   ]
  },
  {
   "cell_type": "code",
   "execution_count": 117,
   "id": "22975c61-4e31-4518-a1ef-04da15773367",
   "metadata": {},
   "outputs": [],
   "source": [
    "df.rename(columns={'Discount': 'Discount Price'}, inplace=True)"
   ]
  },
  {
   "cell_type": "code",
   "execution_count": 118,
   "id": "14e86fd6-504e-42dc-a447-ba943f42c09c",
   "metadata": {},
   "outputs": [
    {
     "data": {
      "text/html": [
       "<div>\n",
       "<style scoped>\n",
       "    .dataframe tbody tr th:only-of-type {\n",
       "        vertical-align: middle;\n",
       "    }\n",
       "\n",
       "    .dataframe tbody tr th {\n",
       "        vertical-align: top;\n",
       "    }\n",
       "\n",
       "    .dataframe thead th {\n",
       "        text-align: right;\n",
       "    }\n",
       "</style>\n",
       "<table border=\"1\" class=\"dataframe\">\n",
       "  <thead>\n",
       "    <tr style=\"text-align: right;\">\n",
       "      <th></th>\n",
       "      <th>Product Name</th>\n",
       "      <th>Category</th>\n",
       "      <th>City</th>\n",
       "      <th>Original Price</th>\n",
       "      <th>Current Price</th>\n",
       "      <th>Discount Price</th>\n",
       "      <th>Orders</th>\n",
       "      <th>Total Revenue</th>\n",
       "      <th>Influencer Active</th>\n",
       "    </tr>\n",
       "  </thead>\n",
       "  <tbody>\n",
       "    <tr>\n",
       "      <th>0</th>\n",
       "      <td>Britannia Cake</td>\n",
       "      <td>Snacks</td>\n",
       "      <td>Delhi</td>\n",
       "      <td>148</td>\n",
       "      <td>163</td>\n",
       "      <td>5</td>\n",
       "      <td>283</td>\n",
       "      <td>44714</td>\n",
       "      <td>No</td>\n",
       "    </tr>\n",
       "    <tr>\n",
       "      <th>1</th>\n",
       "      <td>Britannia Cake</td>\n",
       "      <td>Snacks</td>\n",
       "      <td>Pune</td>\n",
       "      <td>81</td>\n",
       "      <td>86</td>\n",
       "      <td>10</td>\n",
       "      <td>284</td>\n",
       "      <td>21584</td>\n",
       "      <td>Yes</td>\n",
       "    </tr>\n",
       "    <tr>\n",
       "      <th>2</th>\n",
       "      <td>Fortune Oil 1L</td>\n",
       "      <td>Grocery</td>\n",
       "      <td>Hyderabad</td>\n",
       "      <td>138</td>\n",
       "      <td>143</td>\n",
       "      <td>10</td>\n",
       "      <td>69</td>\n",
       "      <td>9177</td>\n",
       "      <td>No</td>\n",
       "    </tr>\n",
       "    <tr>\n",
       "      <th>3</th>\n",
       "      <td>Pepsi 500ml</td>\n",
       "      <td>Beverages</td>\n",
       "      <td>Delhi</td>\n",
       "      <td>127</td>\n",
       "      <td>127</td>\n",
       "      <td>10</td>\n",
       "      <td>83</td>\n",
       "      <td>9711</td>\n",
       "      <td>No</td>\n",
       "    </tr>\n",
       "    <tr>\n",
       "      <th>4</th>\n",
       "      <td>Aashirvaad Atta</td>\n",
       "      <td>Grocery</td>\n",
       "      <td>Chennai</td>\n",
       "      <td>34</td>\n",
       "      <td>49</td>\n",
       "      <td>10</td>\n",
       "      <td>169</td>\n",
       "      <td>6591</td>\n",
       "      <td>Yes</td>\n",
       "    </tr>\n",
       "  </tbody>\n",
       "</table>\n",
       "</div>"
      ],
      "text/plain": [
       "      Product Name   Category       City  Original Price  Current Price  \\\n",
       "0   Britannia Cake     Snacks      Delhi             148            163   \n",
       "1   Britannia Cake     Snacks       Pune              81             86   \n",
       "2   Fortune Oil 1L    Grocery  Hyderabad             138            143   \n",
       "3      Pepsi 500ml  Beverages      Delhi             127            127   \n",
       "4  Aashirvaad Atta    Grocery    Chennai              34             49   \n",
       "\n",
       "   Discount Price  Orders  Total Revenue Influencer Active  \n",
       "0               5     283          44714                No  \n",
       "1              10     284          21584               Yes  \n",
       "2              10      69           9177                No  \n",
       "3              10      83           9711                No  \n",
       "4              10     169           6591               Yes  "
      ]
     },
     "execution_count": 118,
     "metadata": {},
     "output_type": "execute_result"
    }
   ],
   "source": [
    "df.head()"
   ]
  },
  {
   "cell_type": "code",
   "execution_count": 119,
   "id": "fcdd4c1c-d85c-420f-9e5c-4dd15bacd010",
   "metadata": {},
   "outputs": [
    {
     "data": {
      "text/html": [
       "<div>\n",
       "<style scoped>\n",
       "    .dataframe tbody tr th:only-of-type {\n",
       "        vertical-align: middle;\n",
       "    }\n",
       "\n",
       "    .dataframe tbody tr th {\n",
       "        vertical-align: top;\n",
       "    }\n",
       "\n",
       "    .dataframe thead th {\n",
       "        text-align: right;\n",
       "    }\n",
       "</style>\n",
       "<table border=\"1\" class=\"dataframe\">\n",
       "  <thead>\n",
       "    <tr style=\"text-align: right;\">\n",
       "      <th></th>\n",
       "      <th>Original Price</th>\n",
       "      <th>Current Price</th>\n",
       "      <th>Discount Price</th>\n",
       "      <th>Orders</th>\n",
       "      <th>Total Revenue</th>\n",
       "    </tr>\n",
       "  </thead>\n",
       "  <tbody>\n",
       "    <tr>\n",
       "      <th>0</th>\n",
       "      <td>148</td>\n",
       "      <td>163</td>\n",
       "      <td>5</td>\n",
       "      <td>283</td>\n",
       "      <td>44714</td>\n",
       "    </tr>\n",
       "    <tr>\n",
       "      <th>1</th>\n",
       "      <td>81</td>\n",
       "      <td>86</td>\n",
       "      <td>10</td>\n",
       "      <td>284</td>\n",
       "      <td>21584</td>\n",
       "    </tr>\n",
       "    <tr>\n",
       "      <th>2</th>\n",
       "      <td>138</td>\n",
       "      <td>143</td>\n",
       "      <td>10</td>\n",
       "      <td>69</td>\n",
       "      <td>9177</td>\n",
       "    </tr>\n",
       "    <tr>\n",
       "      <th>3</th>\n",
       "      <td>127</td>\n",
       "      <td>127</td>\n",
       "      <td>10</td>\n",
       "      <td>83</td>\n",
       "      <td>9711</td>\n",
       "    </tr>\n",
       "    <tr>\n",
       "      <th>4</th>\n",
       "      <td>34</td>\n",
       "      <td>49</td>\n",
       "      <td>10</td>\n",
       "      <td>169</td>\n",
       "      <td>6591</td>\n",
       "    </tr>\n",
       "  </tbody>\n",
       "</table>\n",
       "</div>"
      ],
      "text/plain": [
       "   Original Price  Current Price  Discount Price  Orders  Total Revenue\n",
       "0             148            163               5     283          44714\n",
       "1              81             86              10     284          21584\n",
       "2             138            143              10      69           9177\n",
       "3             127            127              10      83           9711\n",
       "4              34             49              10     169           6591"
      ]
     },
     "execution_count": 119,
     "metadata": {},
     "output_type": "execute_result"
    }
   ],
   "source": [
    "df[['Original Price','Current Price', 'Discount Price','Orders','Total Revenue']].head()"
   ]
  },
  {
   "cell_type": "code",
   "execution_count": 120,
   "id": "80275c46-8f7b-4e95-ab51-0fba39f61a3e",
   "metadata": {},
   "outputs": [
    {
     "data": {
      "text/plain": [
       "Discount Price\n",
       "0     107\n",
       "10    102\n",
       "5      91\n",
       "Name: count, dtype: int64"
      ]
     },
     "execution_count": 120,
     "metadata": {},
     "output_type": "execute_result"
    }
   ],
   "source": [
    "df['Discount Price'].value_counts()"
   ]
  },
  {
   "cell_type": "markdown",
   "id": "ae644f1a-d552-4752-a4a6-4e0c1048e977",
   "metadata": {},
   "source": [
    "## **Visualization**"
   ]
  },
  {
   "cell_type": "markdown",
   "id": "4a14afcc-7237-4884-99b3-0046d803ac43",
   "metadata": {},
   "source": [
    "#### Boxplot of discount % by category"
   ]
  },
  {
   "cell_type": "code",
   "execution_count": 121,
   "id": "a1e6d13e-8c74-4a7a-be6d-a5d5fba0f370",
   "metadata": {},
   "outputs": [
    {
     "name": "stdout",
     "output_type": "stream",
     "text": [
      "         Category  Discount Price  count\n",
      "0          Snacks               0     33\n",
      "1          Snacks              10     31\n",
      "2       Beverages               0     24\n",
      "3       Beverages               5     23\n",
      "4         Grocery               5     20\n",
      "5       Beverages              10     19\n",
      "6         Grocery               0     19\n",
      "7          Snacks               5     18\n",
      "8         Grocery              10     17\n",
      "9   Confectionery              10     14\n",
      "10   Instant Food               0     13\n",
      "11   Instant Food               5     13\n",
      "12          Dairy              10     11\n",
      "13  Confectionery               0     10\n",
      "14   Instant Food              10     10\n",
      "15          Dairy               5      9\n",
      "16  Confectionery               5      8\n",
      "17          Dairy               0      8\n"
     ]
    },
    {
     "data": {
      "image/png": "[encoded data removed]",
      "text/plain": [
       "<Figure size 800x500 with 1 Axes>"
      ]
     },
     "metadata": {},
     "output_type": "display_data"
    }
   ],
   "source": [
    "count_category = df[['Category', 'Discount Price']].value_counts().reset_index(name='count')\n",
    "\n",
    "print(count_category)\n",
    "\n",
    "# category_plt = sns.barplot(x ='Category', y ='Discount Price', data=count_category)\n",
    "\n",
    "plt.figure(figsize=(8,5))\n",
    "sns.barplot(x='Category', y='Discount Price', data=count_category)\n",
    "plt.title('Distribution of Discount Price by Category')\n",
    "plt.show()\n",
    "\n",
    "# plt.show()"
   ]
  },
  {
   "cell_type": "markdown",
   "id": "c72ba653-fcc3-4386-9b87-9d06ddabd328",
   "metadata": {},
   "source": [
    "#### Revenue distribution by City"
   ]
  },
  {
   "cell_type": "code",
   "execution_count": 122,
   "id": "1b1b8e06-74dc-4e8b-babf-3d809f62e0cf",
   "metadata": {},
   "outputs": [
    {
     "name": "stdout",
     "output_type": "stream",
     "text": [
      "        City  Total Revenue\n",
      "0  Bangalore        1019724\n",
      "1    Chennai         834726\n",
      "2      Delhi         884943\n",
      "3  Hyderabad        1250930\n",
      "4     Mumbai         799190\n",
      "5       Pune         993838\n"
     ]
    },
    {
     "data": {
      "text/plain": [
       "Text(0.5, 1.0, 'Revenue distribution by City')"
      ]
     },
     "execution_count": 122,
     "metadata": {},
     "output_type": "execute_result"
    },
    {
     "data": {
      "image/png": "[encoded data removed]",
      "text/plain": [
       "<Figure size 1200x400 with 1 Axes>"
      ]
     },
     "metadata": {},
     "output_type": "display_data"
    }
   ],
   "source": [
    "revenue_plt = df.groupby('City', as_index=False)['Total Revenue'].sum()\n",
    "print(revenue_plt)\n",
    "\n",
    "plt.figure(figsize=(12,4))\n",
    "barplt = sns.barplot(x='City', y='Total Revenue', data=revenue_plt)\n",
    "\n",
    "for bars in barplt.containers:\n",
    "    barplt.bar_label(bars)\n",
    "\n",
    "plt.title('Revenue distribution by City')\n"
   ]
  },
  {
   "cell_type": "markdown",
   "id": "11645f41-047a-4fd8-b8fd-a8903cdcd5f4",
   "metadata": {},
   "source": [
    "#### Correlation between discount, price, revenue, orders"
   ]
  },
  {
   "cell_type": "code",
   "execution_count": 123,
   "id": "d189b29a-7270-4f1d-b872-72b6ab9cea6b",
   "metadata": {},
   "outputs": [
    {
     "data": {
      "text/html": [
       "<div>\n",
       "<style scoped>\n",
       "    .dataframe tbody tr th:only-of-type {\n",
       "        vertical-align: middle;\n",
       "    }\n",
       "\n",
       "    .dataframe tbody tr th {\n",
       "        vertical-align: top;\n",
       "    }\n",
       "\n",
       "    .dataframe thead th {\n",
       "        text-align: right;\n",
       "    }\n",
       "</style>\n",
       "<table border=\"1\" class=\"dataframe\">\n",
       "  <thead>\n",
       "    <tr style=\"text-align: right;\">\n",
       "      <th></th>\n",
       "      <th>Product Name</th>\n",
       "      <th>Category</th>\n",
       "      <th>City</th>\n",
       "      <th>Original Price</th>\n",
       "      <th>Current Price</th>\n",
       "      <th>Discount Price</th>\n",
       "      <th>Orders</th>\n",
       "      <th>Total Revenue</th>\n",
       "      <th>Influencer Active</th>\n",
       "    </tr>\n",
       "  </thead>\n",
       "  <tbody>\n",
       "    <tr>\n",
       "      <th>0</th>\n",
       "      <td>Britannia Cake</td>\n",
       "      <td>Snacks</td>\n",
       "      <td>Delhi</td>\n",
       "      <td>148</td>\n",
       "      <td>163</td>\n",
       "      <td>5</td>\n",
       "      <td>283</td>\n",
       "      <td>44714</td>\n",
       "      <td>No</td>\n",
       "    </tr>\n",
       "    <tr>\n",
       "      <th>1</th>\n",
       "      <td>Britannia Cake</td>\n",
       "      <td>Snacks</td>\n",
       "      <td>Pune</td>\n",
       "      <td>81</td>\n",
       "      <td>86</td>\n",
       "      <td>10</td>\n",
       "      <td>284</td>\n",
       "      <td>21584</td>\n",
       "      <td>Yes</td>\n",
       "    </tr>\n",
       "    <tr>\n",
       "      <th>2</th>\n",
       "      <td>Fortune Oil 1L</td>\n",
       "      <td>Grocery</td>\n",
       "      <td>Hyderabad</td>\n",
       "      <td>138</td>\n",
       "      <td>143</td>\n",
       "      <td>10</td>\n",
       "      <td>69</td>\n",
       "      <td>9177</td>\n",
       "      <td>No</td>\n",
       "    </tr>\n",
       "    <tr>\n",
       "      <th>3</th>\n",
       "      <td>Pepsi 500ml</td>\n",
       "      <td>Beverages</td>\n",
       "      <td>Delhi</td>\n",
       "      <td>127</td>\n",
       "      <td>127</td>\n",
       "      <td>10</td>\n",
       "      <td>83</td>\n",
       "      <td>9711</td>\n",
       "      <td>No</td>\n",
       "    </tr>\n",
       "    <tr>\n",
       "      <th>4</th>\n",
       "      <td>Aashirvaad Atta</td>\n",
       "      <td>Grocery</td>\n",
       "      <td>Chennai</td>\n",
       "      <td>34</td>\n",
       "      <td>49</td>\n",
       "      <td>10</td>\n",
       "      <td>169</td>\n",
       "      <td>6591</td>\n",
       "      <td>Yes</td>\n",
       "    </tr>\n",
       "  </tbody>\n",
       "</table>\n",
       "</div>"
      ],
      "text/plain": [
       "      Product Name   Category       City  Original Price  Current Price  \\\n",
       "0   Britannia Cake     Snacks      Delhi             148            163   \n",
       "1   Britannia Cake     Snacks       Pune              81             86   \n",
       "2   Fortune Oil 1L    Grocery  Hyderabad             138            143   \n",
       "3      Pepsi 500ml  Beverages      Delhi             127            127   \n",
       "4  Aashirvaad Atta    Grocery    Chennai              34             49   \n",
       "\n",
       "   Discount Price  Orders  Total Revenue Influencer Active  \n",
       "0               5     283          44714                No  \n",
       "1              10     284          21584               Yes  \n",
       "2              10      69           9177                No  \n",
       "3              10      83           9711                No  \n",
       "4              10     169           6591               Yes  "
      ]
     },
     "execution_count": 123,
     "metadata": {},
     "output_type": "execute_result"
    }
   ],
   "source": [
    "df.head()"
   ]
  },
  {
   "cell_type": "code",
   "execution_count": 124,
   "id": "4d5cbd97-182c-4c50-964f-05527eef7d03",
   "metadata": {},
   "outputs": [
    {
     "data": {
      "text/plain": [
       "Text(0.5, 1.0, 'Correlation between discount, price, revenue, orders')"
      ]
     },
     "execution_count": 124,
     "metadata": {},
     "output_type": "execute_result"
    },
    {
     "data": {
      "image/png": "[encoded data removed]",
      "text/plain": [
       "<Figure size 640x480 with 2 Axes>"
      ]
     },
     "metadata": {},
     "output_type": "display_data"
    }
   ],
   "source": [
    "numeric_cols = df[['Discount Price', 'Current Price', 'Orders', 'Total Revenue']]\n",
    "\n",
    "# Compute correlation matrix\n",
    "corr = numeric_cols.corr()\n",
    "\n",
    "sns.heatmap(corr, annot=True, cmap='coolwarm', linewidths=0.5)\n",
    "plt.title('Correlation between discount, price, revenue, orders')"
   ]
  },
  {
   "cell_type": "markdown",
   "id": "621faff3-7d8e-4f2a-9af1-5ce190a43115",
   "metadata": {},
   "source": [
    "#### Orders vs Influencer Active"
   ]
  },
  {
   "cell_type": "code",
   "execution_count": 129,
   "id": "51715fe9-ebde-404d-8fbc-774ed85849b1",
   "metadata": {},
   "outputs": [
    {
     "data": {
      "text/plain": [
       "Text(0.5, 1.0, 'Orders vs Influencer Active')"
      ]
     },
     "execution_count": 129,
     "metadata": {},
     "output_type": "execute_result"
    },
    {
     "data": {
      "image/png": "[encoded data removed]",
      "text/plain": [
       "<Figure size 640x480 with 1 Axes>"
      ]
     },
     "metadata": {},
     "output_type": "display_data"
    }
   ],
   "source": [
    "influencer = df.groupby('Influencer Active', as_index=False)['Orders'].sum()\n",
    "\n",
    "influencer_plt = sns.barplot(x='Influencer Active', y = 'Orders', data=influencer)\n",
    "\n",
    "for bars in influencer_plt.containers:\n",
    "    influencer_plt.bar_label(bars)\n",
    "\n",
    "plt.title('Orders vs Influencer Active')"
   ]
  },
  {
   "cell_type": "markdown",
   "id": "627b9258-61b4-4f57-b27a-2a0ba155cc7a",
   "metadata": {},
   "source": [
    "#### Price, Orders, Revenue relationship"
   ]
  },
  {
   "cell_type": "code",
   "execution_count": 130,
   "id": "2d31c973-981b-4427-bce6-15627e36b422",
   "metadata": {},
   "outputs": [
    {
     "data": {
      "text/html": [
       "<div>\n",
       "<style scoped>\n",
       "    .dataframe tbody tr th:only-of-type {\n",
       "        vertical-align: middle;\n",
       "    }\n",
       "\n",
       "    .dataframe tbody tr th {\n",
       "        vertical-align: top;\n",
       "    }\n",
       "\n",
       "    .dataframe thead th {\n",
       "        text-align: right;\n",
       "    }\n",
       "</style>\n",
       "<table border=\"1\" class=\"dataframe\">\n",
       "  <thead>\n",
       "    <tr style=\"text-align: right;\">\n",
       "      <th></th>\n",
       "      <th>Product Name</th>\n",
       "      <th>Category</th>\n",
       "      <th>City</th>\n",
       "      <th>Original Price</th>\n",
       "      <th>Current Price</th>\n",
       "      <th>Discount Price</th>\n",
       "      <th>Orders</th>\n",
       "      <th>Total Revenue</th>\n",
       "      <th>Influencer Active</th>\n",
       "    </tr>\n",
       "  </thead>\n",
       "  <tbody>\n",
       "    <tr>\n",
       "      <th>0</th>\n",
       "      <td>Britannia Cake</td>\n",
       "      <td>Snacks</td>\n",
       "      <td>Delhi</td>\n",
       "      <td>148</td>\n",
       "      <td>163</td>\n",
       "      <td>5</td>\n",
       "      <td>283</td>\n",
       "      <td>44714</td>\n",
       "      <td>No</td>\n",
       "    </tr>\n",
       "    <tr>\n",
       "      <th>1</th>\n",
       "      <td>Britannia Cake</td>\n",
       "      <td>Snacks</td>\n",
       "      <td>Pune</td>\n",
       "      <td>81</td>\n",
       "      <td>86</td>\n",
       "      <td>10</td>\n",
       "      <td>284</td>\n",
       "      <td>21584</td>\n",
       "      <td>Yes</td>\n",
       "    </tr>\n",
       "    <tr>\n",
       "      <th>2</th>\n",
       "      <td>Fortune Oil 1L</td>\n",
       "      <td>Grocery</td>\n",
       "      <td>Hyderabad</td>\n",
       "      <td>138</td>\n",
       "      <td>143</td>\n",
       "      <td>10</td>\n",
       "      <td>69</td>\n",
       "      <td>9177</td>\n",
       "      <td>No</td>\n",
       "    </tr>\n",
       "    <tr>\n",
       "      <th>3</th>\n",
       "      <td>Pepsi 500ml</td>\n",
       "      <td>Beverages</td>\n",
       "      <td>Delhi</td>\n",
       "      <td>127</td>\n",
       "      <td>127</td>\n",
       "      <td>10</td>\n",
       "      <td>83</td>\n",
       "      <td>9711</td>\n",
       "      <td>No</td>\n",
       "    </tr>\n",
       "    <tr>\n",
       "      <th>4</th>\n",
       "      <td>Aashirvaad Atta</td>\n",
       "      <td>Grocery</td>\n",
       "      <td>Chennai</td>\n",
       "      <td>34</td>\n",
       "      <td>49</td>\n",
       "      <td>10</td>\n",
       "      <td>169</td>\n",
       "      <td>6591</td>\n",
       "      <td>Yes</td>\n",
       "    </tr>\n",
       "  </tbody>\n",
       "</table>\n",
       "</div>"
      ],
      "text/plain": [
       "      Product Name   Category       City  Original Price  Current Price  \\\n",
       "0   Britannia Cake     Snacks      Delhi             148            163   \n",
       "1   Britannia Cake     Snacks       Pune              81             86   \n",
       "2   Fortune Oil 1L    Grocery  Hyderabad             138            143   \n",
       "3      Pepsi 500ml  Beverages      Delhi             127            127   \n",
       "4  Aashirvaad Atta    Grocery    Chennai              34             49   \n",
       "\n",
       "   Discount Price  Orders  Total Revenue Influencer Active  \n",
       "0               5     283          44714                No  \n",
       "1              10     284          21584               Yes  \n",
       "2              10      69           9177                No  \n",
       "3              10      83           9711                No  \n",
       "4              10     169           6591               Yes  "
      ]
     },
     "execution_count": 130,
     "metadata": {},
     "output_type": "execute_result"
    }
   ],
   "source": [
    "df.head()"
   ]
  },
  {
   "cell_type": "code",
   "execution_count": 133,
   "id": "64c28c26-87dc-4822-ab80-294411c01fe2",
   "metadata": {},
   "outputs": [
    {
     "data": {
      "text/plain": [
       "<seaborn.axisgrid.PairGrid at 0x1fa46b0ccb0>"
      ]
     },
     "execution_count": 133,
     "metadata": {},
     "output_type": "execute_result"
    },
    {
     "data": {
      "image/png": "[encoded data removed]",
      "text/plain": [
       "<Figure size 500x500 with 6 Axes>"
      ]
     },
     "metadata": {},
     "output_type": "display_data"
    }
   ],
   "source": [
    "relationship = df[['Orders' , 'Total Revenue']]\n",
    "\n",
    "sns.pairplot(relationship)"
   ]
  }
 ],
 "metadata": {
  "kernelspec": {
   "display_name": "Python [conda env:base] *",
   "language": "python",
   "name": "conda-base-py"
  },
  "language_info": {
   "codemirror_mode": {
    "name": "ipython",
    "version": 3
   },
   "file_extension": ".py",
   "mimetype": "text/x-python",
   "name": "python",
   "nbconvert_exporter": "python",
   "pygments_lexer": "ipython3",
   "version": "3.12.7"
  }
 },
 "nbformat": 4,
 "nbformat_minor": 5
}
